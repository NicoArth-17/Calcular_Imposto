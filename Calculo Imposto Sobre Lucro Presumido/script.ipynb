{
 "cells": [
  {
   "cell_type": "code",
   "execution_count": 2,
   "metadata": {},
   "outputs": [
    {
     "name": "stdout",
     "output_type": "stream",
     "text": [
      "<class 'pandas.core.frame.DataFrame'>\n",
      "RangeIndex: 12 entries, 1 to 12\n",
      "Data columns (total 2 columns):\n",
      " #   Column  Non-Null Count  Dtype  \n",
      "---  ------  --------------  -----  \n",
      " 0   Mês     12 non-null     object \n",
      " 1   Valor   12 non-null     float64\n",
      "dtypes: float64(1), object(1)\n",
      "memory usage: 324.0+ bytes\n"
     ]
    },
    {
     "data": {
      "text/html": [
       "<div>\n",
       "<style scoped>\n",
       "    .dataframe tbody tr th:only-of-type {\n",
       "        vertical-align: middle;\n",
       "    }\n",
       "\n",
       "    .dataframe tbody tr th {\n",
       "        vertical-align: top;\n",
       "    }\n",
       "\n",
       "    .dataframe thead th {\n",
       "        text-align: right;\n",
       "    }\n",
       "</style>\n",
       "<table border=\"1\" class=\"dataframe\">\n",
       "  <thead>\n",
       "    <tr style=\"text-align: right;\">\n",
       "      <th></th>\n",
       "      <th>Mês</th>\n",
       "      <th>Valor</th>\n",
       "    </tr>\n",
       "  </thead>\n",
       "  <tbody>\n",
       "    <tr>\n",
       "      <th>1</th>\n",
       "      <td>Janeiro</td>\n",
       "      <td>95141.98</td>\n",
       "    </tr>\n",
       "    <tr>\n",
       "      <th>2</th>\n",
       "      <td>Fevereiro</td>\n",
       "      <td>95425.16</td>\n",
       "    </tr>\n",
       "    <tr>\n",
       "      <th>3</th>\n",
       "      <td>Março</td>\n",
       "      <td>89716.31</td>\n",
       "    </tr>\n",
       "    <tr>\n",
       "      <th>4</th>\n",
       "      <td>Abril</td>\n",
       "      <td>78459.99</td>\n",
       "    </tr>\n",
       "    <tr>\n",
       "      <th>5</th>\n",
       "      <td>Maio</td>\n",
       "      <td>71087.28</td>\n",
       "    </tr>\n",
       "    <tr>\n",
       "      <th>6</th>\n",
       "      <td>Junho</td>\n",
       "      <td>83911.06</td>\n",
       "    </tr>\n",
       "    <tr>\n",
       "      <th>7</th>\n",
       "      <td>Julho</td>\n",
       "      <td>56467.26</td>\n",
       "    </tr>\n",
       "    <tr>\n",
       "      <th>8</th>\n",
       "      <td>Agosto</td>\n",
       "      <td>88513.58</td>\n",
       "    </tr>\n",
       "    <tr>\n",
       "      <th>9</th>\n",
       "      <td>Setembro</td>\n",
       "      <td>66552.49</td>\n",
       "    </tr>\n",
       "    <tr>\n",
       "      <th>10</th>\n",
       "      <td>Outubro</td>\n",
       "      <td>80164.07</td>\n",
       "    </tr>\n",
       "    <tr>\n",
       "      <th>11</th>\n",
       "      <td>Novembro</td>\n",
       "      <td>66964.33</td>\n",
       "    </tr>\n",
       "    <tr>\n",
       "      <th>12</th>\n",
       "      <td>Dezembro</td>\n",
       "      <td>71525.25</td>\n",
       "    </tr>\n",
       "  </tbody>\n",
       "</table>\n",
       "</div>"
      ],
      "text/plain": [
       "0         Mês     Valor\n",
       "1     Janeiro  95141.98\n",
       "2   Fevereiro  95425.16\n",
       "3       Março  89716.31\n",
       "4       Abril  78459.99\n",
       "5        Maio  71087.28\n",
       "6       Junho  83911.06\n",
       "7       Julho  56467.26\n",
       "8      Agosto  88513.58\n",
       "9    Setembro  66552.49\n",
       "10    Outubro  80164.07\n",
       "11   Novembro  66964.33\n",
       "12   Dezembro  71525.25"
      ]
     },
     "metadata": {},
     "output_type": "display_data"
    }
   ],
   "source": [
    "import pandas as pd\n",
    "\n",
    "# Transformando arquivo em um dataframe\n",
    "faturamento_df = pd.read_excel(r'Arquivos\\Faturamento2022.xlsx')\n",
    "# Selecionando primeira linha\n",
    "cabeçalho = faturamento_df.iloc[0]\n",
    "# Transformando primeira linha no cabeçalho\n",
    "faturamento_df.columns = cabeçalho\n",
    "# Excluindo primeira linha\n",
    "faturamento_df = faturamento_df.drop(0, axis=0) # .drop(indice, linha)\n",
    "# Convertendo variável da coluna valores para float\n",
    "faturamento_df['Valor'] = faturamento_df['Valor'].astype(float)\n",
    "\n",
    "faturamento_df.info()\n",
    "display(faturamento_df)"
   ]
  },
  {
   "cell_type": "code",
   "execution_count": 3,
   "metadata": {},
   "outputs": [],
   "source": [
    "# Lucro Presumido\n",
    "# lucroPres_percentual = float(input('Porcentagem de Lucro Presumido: '))\n",
    "\n",
    "lucroPres_percentual = 0.025  # 2,5%\n",
    "\n",
    "# Impostos Mensais\n",
    "# iss/icms = float(input('Porcentagem ISS/ICMS: '))\n",
    "\n",
    "iss_icms = 0.023 # 2,3%\n",
    "pis = 0.0065 # valor fixo\n",
    "cofins = 0.03 # valor fixo\n",
    "\n",
    "# Impostos Trimestrais\n",
    "irpj = 0.15\n",
    "csll = 0.09\n",
    "\n"
   ]
  },
  {
   "cell_type": "code",
   "execution_count": 23,
   "metadata": {},
   "outputs": [
    {
     "ename": "TypeError",
     "evalue": "unsupported format string passed to list.__format__",
     "output_type": "error",
     "traceback": [
      "\u001b[1;31m---------------------------------------------------------------------------\u001b[0m",
      "\u001b[1;31mTypeError\u001b[0m                                 Traceback (most recent call last)",
      "Cell \u001b[1;32mIn[23], line 29\u001b[0m\n\u001b[0;32m     26\u001b[0m csll_trimestre \u001b[39m=\u001b[39m []\n\u001b[0;32m     28\u001b[0m \u001b[39mfor\u001b[39;00m valor \u001b[39min\u001b[39;00m faturamento_df[\u001b[39m'\u001b[39m\u001b[39mValor\u001b[39m\u001b[39m'\u001b[39m]:\n\u001b[1;32m---> 29\u001b[0m    impostoMensal_calculo \u001b[39m=\u001b[39m impostos_calcular(valor, \u001b[39m0\u001b[39;49m)\n\u001b[0;32m     30\u001b[0m    lucroPresumido_Mensal\u001b[39m.\u001b[39mappend(impostoMensal_calculo[\u001b[39m0\u001b[39m])\n\u001b[0;32m     32\u001b[0m trimestre1 \u001b[39m=\u001b[39m \u001b[39msum\u001b[39m(faturamento_df[\u001b[39m'\u001b[39m\u001b[39mValor\u001b[39m\u001b[39m'\u001b[39m][:\u001b[39m3\u001b[39m])\n",
      "Cell \u001b[1;32mIn[23], line 17\u001b[0m, in \u001b[0;36mimpostos_calcular\u001b[1;34m(valor_mensal, valor_tri)\u001b[0m\n\u001b[0;32m     13\u001b[0m    irpj_valor \u001b[39m=\u001b[39m lucroPresumido_Tri \u001b[39m*\u001b[39m irpj\n\u001b[0;32m     15\u001b[0m csll_valor \u001b[39m=\u001b[39m lucroPresumido_Tri \u001b[39m*\u001b[39m csll\n\u001b[1;32m---> 17\u001b[0m \u001b[39mreturn\u001b[39;00m \u001b[39mf\u001b[39m\u001b[39m'\u001b[39m\u001b[39m{\u001b[39;00mlucroPresumido_Mensal\u001b[39m:\u001b[39;00m\u001b[39m.2f\u001b[39m\u001b[39m}\u001b[39;00m\u001b[39m'\u001b[39m, \u001b[39mf\u001b[39m\u001b[39m'\u001b[39m\u001b[39m{\u001b[39;00mlucroPresumido_Tri\u001b[39m}\u001b[39;00m\u001b[39m'\u001b[39m ,\u001b[39mf\u001b[39m\u001b[39m'\u001b[39m\u001b[39m{\u001b[39;00miss_icms_valor\u001b[39m:\u001b[39;00m\u001b[39m.2f\u001b[39m\u001b[39m}\u001b[39;00m\u001b[39m'\u001b[39m, \u001b[39mf\u001b[39m\u001b[39m'\u001b[39m\u001b[39m{\u001b[39;00mpis_valor\u001b[39m:\u001b[39;00m\u001b[39m.2f\u001b[39m\u001b[39m}\u001b[39;00m\u001b[39m'\u001b[39m, \u001b[39mf\u001b[39m\u001b[39m'\u001b[39m\u001b[39m{\u001b[39;00mcofins_valor\u001b[39m:\u001b[39;00m\u001b[39m.2f\u001b[39m\u001b[39m}\u001b[39;00m\u001b[39m'\u001b[39m, \u001b[39mf\u001b[39m\u001b[39m'\u001b[39m\u001b[39m{\u001b[39;00mirpj_valor\u001b[39m:\u001b[39;00m\u001b[39m.2f\u001b[39m\u001b[39m}\u001b[39;00m\u001b[39m'\u001b[39m, \u001b[39mf\u001b[39m\u001b[39m'\u001b[39m\u001b[39m{\u001b[39;00mcsll_valor\u001b[39m:\u001b[39;00m\u001b[39m.2f\u001b[39m\u001b[39m}\u001b[39;00m\u001b[39m'\u001b[39m\n",
      "\u001b[1;31mTypeError\u001b[0m: unsupported format string passed to list.__format__"
     ]
    }
   ],
   "source": [
    "def impostos_calcular(valor_mensal, valor_tri):\n",
    "   lucroPresumido_Men = valor_mensal * lucroPres_percentual\n",
    "   lucroPresumido_Tri = valor_tri * lucroPres_percentual\n",
    "\n",
    "   iss_icms_valor = lucroPresumido_Men * iss_icms\n",
    "   pis_valor = lucroPresumido_Men * pis\n",
    "   cofins_valor = lucroPresumido_Men * cofins\n",
    "\n",
    "   if lucroPresumido_Men > 20000:\n",
    "     irpj_adicional = (lucroPresumido_Men - 20000) * 0.1\n",
    "     irpj_valor = (lucroPresumido_Tri * irpj) + irpj_adicional\n",
    "   else :\n",
    "      irpj_valor = lucroPresumido_Tri * irpj\n",
    "\n",
    "   csll_valor = lucroPresumido_Tri * csll\n",
    "\n",
    "   return f'{lucroPresumido_Mensal:.2f}', f'{lucroPresumido_Tri}' ,f'{iss_icms_valor:.2f}', f'{pis_valor:.2f}', f'{cofins_valor:.2f}', f'{irpj_valor:.2f}', f'{csll_valor:.2f}'\n",
    "\n",
    "\n",
    "lucroPresumido_Mensal = []\n",
    "lucroPresumido_Trimestral = []\n",
    "iss_icms_aoMes = []\n",
    "pis_aoMes = []\n",
    "cofins_aoMes = []\n",
    "irpj_trimestre = []\n",
    "csll_trimestre = []\n",
    "\n",
    "for valor in faturamento_df['Valor']:\n",
    "   impostoMensal_calculo = impostos_calcular(valor, 0)\n",
    "   lucroPresumido_Mensal.append(impostoMensal_calculo[0])\n",
    "\n",
    "trimestre1 = sum(faturamento_df['Valor'][:3])\n",
    "trimestre1 = f'{trimestre1:.2f}'\n",
    "trimestre2 = sum(faturamento_df['Valor'][3:6])\n",
    "trimestre2 = f'{trimestre2:.2f}'\n",
    "trimestre3 = sum(faturamento_df['Valor'][6:9])\n",
    "trimestre3 = f'{trimestre3:.2f}'\n",
    "trimestre4 = sum(faturamento_df['Valor'][9:12])\n",
    "trimestre4 = f'{trimestre4:.2f}'\n",
    "\n",
    "trimestre_valores = [trimestre1, trimestre2, trimestre3, trimestre4]\n",
    "\n",
    "for valor in trimestre_valores:\n",
    "   impostoTri_calculo = impostos_calcular(0, valor)\n",
    "   lucroPresumido_Trimestral.append(impostoTri_calculo[1])\n",
    "\n",
    "print(lucroPresumido_Mensal, lucroPresumido_Trimestral)\n",
    "\n"
   ]
  },
  {
   "cell_type": "code",
   "execution_count": 20,
   "metadata": {},
   "outputs": [
    {
     "ename": "TypeError",
     "evalue": "impostos_calcular() takes 1 positional argument but 2 were given",
     "output_type": "error",
     "traceback": [
      "\u001b[1;31m---------------------------------------------------------------------------\u001b[0m",
      "\u001b[1;31mTypeError\u001b[0m                                 Traceback (most recent call last)",
      "Cell \u001b[1;32mIn[20], line 1\u001b[0m\n\u001b[1;32m----> 1\u001b[0m teste \u001b[39m=\u001b[39m impostos_calcular(\u001b[39m0\u001b[39;49m, \u001b[39m100\u001b[39;49m)\n\u001b[0;32m      2\u001b[0m \u001b[39mprint\u001b[39m(teste[\u001b[39m1\u001b[39m])\n",
      "\u001b[1;31mTypeError\u001b[0m: impostos_calcular() takes 1 positional argument but 2 were given"
     ]
    }
   ],
   "source": [
    "teste = impostos_calcular(0, 100)\n",
    "print(teste[1])"
   ]
  },
  {
   "cell_type": "code",
   "execution_count": 19,
   "metadata": {},
   "outputs": [
    {
     "name": "stderr",
     "output_type": "stream",
     "text": [
      "C:\\Users\\mobishopgamer\\AppData\\Local\\Temp\\ipykernel_14692\\2119046340.py:2: FutureWarning: The behavior of `series[i:j]` with an integer-dtype index is deprecated. In a future version, this will be treated as *label-based* indexing, consistent with e.g. `series[i]` lookups. To retain the old behavior, use `series.iloc[i:j]`. To get the future behavior, use `series.loc[i:j]`.\n",
      "  trimestre1 = sum(faturamento_df['Valor'][:3])\n",
      "C:\\Users\\mobishopgamer\\AppData\\Local\\Temp\\ipykernel_14692\\2119046340.py:4: FutureWarning: The behavior of `series[i:j]` with an integer-dtype index is deprecated. In a future version, this will be treated as *label-based* indexing, consistent with e.g. `series[i]` lookups. To retain the old behavior, use `series.iloc[i:j]`. To get the future behavior, use `series.loc[i:j]`.\n",
      "  trimestre2 = sum(faturamento_df['Valor'][3:6])\n",
      "C:\\Users\\mobishopgamer\\AppData\\Local\\Temp\\ipykernel_14692\\2119046340.py:6: FutureWarning: The behavior of `series[i:j]` with an integer-dtype index is deprecated. In a future version, this will be treated as *label-based* indexing, consistent with e.g. `series[i]` lookups. To retain the old behavior, use `series.iloc[i:j]`. To get the future behavior, use `series.loc[i:j]`.\n",
      "  trimestre3 = sum(faturamento_df['Valor'][6:9])\n",
      "C:\\Users\\mobishopgamer\\AppData\\Local\\Temp\\ipykernel_14692\\2119046340.py:8: FutureWarning: The behavior of `series[i:j]` with an integer-dtype index is deprecated. In a future version, this will be treated as *label-based* indexing, consistent with e.g. `series[i]` lookups. To retain the old behavior, use `series.iloc[i:j]`. To get the future behavior, use `series.loc[i:j]`.\n",
      "  trimestre4 = sum(faturamento_df['Valor'][9:12])\n"
     ]
    }
   ],
   "source": [
    "# Agrupamento Trimestres\n",
    "trimestre1 = sum(faturamento_df['Valor'][:3])\n",
    "trimestre1 = f'{trimestre1:.2f}'\n",
    "trimestre2 = sum(faturamento_df['Valor'][3:6])\n",
    "trimestre2 = f'{trimestre2:.2f}'\n",
    "trimestre3 = sum(faturamento_df['Valor'][6:9])\n",
    "trimestre3 = f'{trimestre3:.2f}'\n",
    "trimestre4 = sum(faturamento_df['Valor'][9:12])\n",
    "trimestre4 = f'{trimestre4:.2f}'\n",
    "\n",
    "trimestre_valores = [trimestre1, trimestre2, trimestre3, trimestre4]\n"
   ]
  },
  {
   "cell_type": "code",
   "execution_count": 112,
   "metadata": {},
   "outputs": [
    {
     "ename": "NotImplementedError",
     "evalue": "iLocation based boolean indexing on an integer type is not available",
     "output_type": "error",
     "traceback": [
      "\u001b[1;31m---------------------------------------------------------------------------\u001b[0m",
      "\u001b[1;31mNotImplementedError\u001b[0m                       Traceback (most recent call last)",
      "Cell \u001b[1;32mIn[112], line 1\u001b[0m\n\u001b[1;32m----> 1\u001b[0m teste \u001b[39m=\u001b[39m faturamento_df\u001b[39m.\u001b[39;49miloc[(faturamento_df[\u001b[39m'\u001b[39;49m\u001b[39mMês\u001b[39;49m\u001b[39m'\u001b[39;49m] \u001b[39m==\u001b[39;49m \u001b[39m'\u001b[39;49m\u001b[39mJaneiro\u001b[39;49m\u001b[39m'\u001b[39;49m),\u001b[39m'\u001b[39;49m\u001b[39mValor\u001b[39;49m\u001b[39m'\u001b[39;49m]\n\u001b[0;32m      2\u001b[0m \u001b[39mprint\u001b[39m(teste)\n",
      "File \u001b[1;32mc:\\Users\\mobishopgamer\\AppData\\Local\\Programs\\Python\\Python311\\Lib\\site-packages\\pandas\\core\\indexing.py:1067\u001b[0m, in \u001b[0;36m_LocationIndexer.__getitem__\u001b[1;34m(self, key)\u001b[0m\n\u001b[0;32m   1065\u001b[0m     \u001b[39mif\u001b[39;00m \u001b[39mself\u001b[39m\u001b[39m.\u001b[39m_is_scalar_access(key):\n\u001b[0;32m   1066\u001b[0m         \u001b[39mreturn\u001b[39;00m \u001b[39mself\u001b[39m\u001b[39m.\u001b[39mobj\u001b[39m.\u001b[39m_get_value(\u001b[39m*\u001b[39mkey, takeable\u001b[39m=\u001b[39m\u001b[39mself\u001b[39m\u001b[39m.\u001b[39m_takeable)\n\u001b[1;32m-> 1067\u001b[0m     \u001b[39mreturn\u001b[39;00m \u001b[39mself\u001b[39;49m\u001b[39m.\u001b[39;49m_getitem_tuple(key)\n\u001b[0;32m   1068\u001b[0m \u001b[39melse\u001b[39;00m:\n\u001b[0;32m   1069\u001b[0m     \u001b[39m# we by definition only have the 0th axis\u001b[39;00m\n\u001b[0;32m   1070\u001b[0m     axis \u001b[39m=\u001b[39m \u001b[39mself\u001b[39m\u001b[39m.\u001b[39maxis \u001b[39mor\u001b[39;00m \u001b[39m0\u001b[39m\n",
      "File \u001b[1;32mc:\\Users\\mobishopgamer\\AppData\\Local\\Programs\\Python\\Python311\\Lib\\site-packages\\pandas\\core\\indexing.py:1563\u001b[0m, in \u001b[0;36m_iLocIndexer._getitem_tuple\u001b[1;34m(self, tup)\u001b[0m\n\u001b[0;32m   1561\u001b[0m \u001b[39mdef\u001b[39;00m \u001b[39m_getitem_tuple\u001b[39m(\u001b[39mself\u001b[39m, tup: \u001b[39mtuple\u001b[39m):\n\u001b[1;32m-> 1563\u001b[0m     tup \u001b[39m=\u001b[39m \u001b[39mself\u001b[39;49m\u001b[39m.\u001b[39;49m_validate_tuple_indexer(tup)\n\u001b[0;32m   1564\u001b[0m     \u001b[39mwith\u001b[39;00m suppress(IndexingError):\n\u001b[0;32m   1565\u001b[0m         \u001b[39mreturn\u001b[39;00m \u001b[39mself\u001b[39m\u001b[39m.\u001b[39m_getitem_lowerdim(tup)\n",
      "File \u001b[1;32mc:\\Users\\mobishopgamer\\AppData\\Local\\Programs\\Python\\Python311\\Lib\\site-packages\\pandas\\core\\indexing.py:873\u001b[0m, in \u001b[0;36m_LocationIndexer._validate_tuple_indexer\u001b[1;34m(self, key)\u001b[0m\n\u001b[0;32m    871\u001b[0m \u001b[39mfor\u001b[39;00m i, k \u001b[39min\u001b[39;00m \u001b[39menumerate\u001b[39m(key):\n\u001b[0;32m    872\u001b[0m     \u001b[39mtry\u001b[39;00m:\n\u001b[1;32m--> 873\u001b[0m         \u001b[39mself\u001b[39;49m\u001b[39m.\u001b[39;49m_validate_key(k, i)\n\u001b[0;32m    874\u001b[0m     \u001b[39mexcept\u001b[39;00m \u001b[39mValueError\u001b[39;00m \u001b[39mas\u001b[39;00m err:\n\u001b[0;32m    875\u001b[0m         \u001b[39mraise\u001b[39;00m \u001b[39mValueError\u001b[39;00m(\n\u001b[0;32m    876\u001b[0m             \u001b[39m\"\u001b[39m\u001b[39mLocation based indexing can only have \u001b[39m\u001b[39m\"\u001b[39m\n\u001b[0;32m    877\u001b[0m             \u001b[39mf\u001b[39m\u001b[39m\"\u001b[39m\u001b[39m[\u001b[39m\u001b[39m{\u001b[39;00m\u001b[39mself\u001b[39m\u001b[39m.\u001b[39m_valid_types\u001b[39m}\u001b[39;00m\u001b[39m] types\u001b[39m\u001b[39m\"\u001b[39m\n\u001b[0;32m    878\u001b[0m         ) \u001b[39mfrom\u001b[39;00m \u001b[39merr\u001b[39;00m\n",
      "File \u001b[1;32mc:\\Users\\mobishopgamer\\AppData\\Local\\Programs\\Python\\Python311\\Lib\\site-packages\\pandas\\core\\indexing.py:1452\u001b[0m, in \u001b[0;36m_iLocIndexer._validate_key\u001b[1;34m(self, key, axis)\u001b[0m\n\u001b[0;32m   1450\u001b[0m \u001b[39mif\u001b[39;00m \u001b[39mhasattr\u001b[39m(key, \u001b[39m\"\u001b[39m\u001b[39mindex\u001b[39m\u001b[39m\"\u001b[39m) \u001b[39mand\u001b[39;00m \u001b[39misinstance\u001b[39m(key\u001b[39m.\u001b[39mindex, Index):\n\u001b[0;32m   1451\u001b[0m     \u001b[39mif\u001b[39;00m key\u001b[39m.\u001b[39mindex\u001b[39m.\u001b[39minferred_type \u001b[39m==\u001b[39m \u001b[39m\"\u001b[39m\u001b[39minteger\u001b[39m\u001b[39m\"\u001b[39m:\n\u001b[1;32m-> 1452\u001b[0m         \u001b[39mraise\u001b[39;00m \u001b[39mNotImplementedError\u001b[39;00m(\n\u001b[0;32m   1453\u001b[0m             \u001b[39m\"\u001b[39m\u001b[39miLocation based boolean \u001b[39m\u001b[39m\"\u001b[39m\n\u001b[0;32m   1454\u001b[0m             \u001b[39m\"\u001b[39m\u001b[39mindexing on an integer type \u001b[39m\u001b[39m\"\u001b[39m\n\u001b[0;32m   1455\u001b[0m             \u001b[39m\"\u001b[39m\u001b[39mis not available\u001b[39m\u001b[39m\"\u001b[39m\n\u001b[0;32m   1456\u001b[0m         )\n\u001b[0;32m   1457\u001b[0m     \u001b[39mraise\u001b[39;00m \u001b[39mValueError\u001b[39;00m(\n\u001b[0;32m   1458\u001b[0m         \u001b[39m\"\u001b[39m\u001b[39miLocation based boolean indexing cannot use \u001b[39m\u001b[39m\"\u001b[39m\n\u001b[0;32m   1459\u001b[0m         \u001b[39m\"\u001b[39m\u001b[39man indexable as a mask\u001b[39m\u001b[39m\"\u001b[39m\n\u001b[0;32m   1460\u001b[0m     )\n\u001b[0;32m   1461\u001b[0m \u001b[39mreturn\u001b[39;00m\n",
      "\u001b[1;31mNotImplementedError\u001b[0m: iLocation based boolean indexing on an integer type is not available"
     ]
    }
   ],
   "source": [
    "teste = faturamento_df.iloc[faturamento_df['Mês'] == 'Janeiro','Valor']\n",
    "print(teste)"
   ]
  }
 ],
 "metadata": {
  "kernelspec": {
   "display_name": "Python 3",
   "language": "python",
   "name": "python3"
  },
  "language_info": {
   "codemirror_mode": {
    "name": "ipython",
    "version": 3
   },
   "file_extension": ".py",
   "mimetype": "text/x-python",
   "name": "python",
   "nbconvert_exporter": "python",
   "pygments_lexer": "ipython3",
   "version": "3.11.1"
  },
  "orig_nbformat": 4
 },
 "nbformat": 4,
 "nbformat_minor": 2
}
